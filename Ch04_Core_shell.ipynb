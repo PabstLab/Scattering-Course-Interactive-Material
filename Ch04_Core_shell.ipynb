{
 "cells": [
  {
   "cell_type": "markdown",
   "id": "95a96ac9-7e28-4a5c-b2f1-47c4d9b2fd9b",
   "metadata": {
    "tags": []
   },
   "source": [
    "# <ins>Build up a composite model: Radial symmetry</ins>"
   ]
  },
  {
   "cell_type": "markdown",
   "id": "ead6a367",
   "metadata": {
    "tags": []
   },
   "source": [
    "## Core-shell system\n",
    "\n",
    "Let's consider a spherical colloid with a different density or chemical composition along the radial direction. The scattering amplitude will then be:\n",
    "\n",
    "$A(q)= \\ 4\\pi \\ \\int_0^R r^2 \\Delta \\rho(r) \\ j_0(qr) \\ \\text{d}r$\n",
    "\n",
    "The simplest case is the core-shell system: *1)* a core compartment of SLD $\\rho_0$ and radius $R_0$, *2)* a shell of SLD $\\rho_1$ and thickness $\\Delta R$.\n",
    "\n",
    "<img src=\"./imgs/core_shell_0.png\" alt=\"Core-shell sketch\" width=\"700\"/>\n",
    "\n",
    "There are at least 2 ways to solve this integral. These can be ***visualized*** as such\n",
    "\n",
    "<img src=\"./imgs/core_shell_1.png\" alt=\"Core-shell sketch 2\" width=\"1600\"/>\n",
    "\n"
   ]
  },
  {
   "cell_type": "code",
   "execution_count": 1,
   "id": "cd6341af-4461-4a03-9ff9-fcecc5365824",
   "metadata": {
    "jupyter": {
     "source_hidden": true
    },
    "tags": []
   },
   "outputs": [],
   "source": [
    "#!/usr/bin/python\n",
    "\n",
    "import math\n",
    "import numpy as np\n",
    "import matplotlib\n",
    "import matplotlib.pyplot as plt\n",
    "from ipywidgets import interact,FloatSlider\n",
    "\n",
    "import library.Sphere_models as sph\n",
    "\n",
    "fs = 9\n",
    "\n",
    "rho_scale = np.linspace(7.0*1e-4, 16.0*1e-4, 50, endpoint=True)\n",
    "\n",
    "def normalize(x, rmax=rho_scale[-1], rmin=rho_scale[0]):\n",
    "    return (x-rmax)/(rmin-rmax)\n",
    "\n",
    "def vol(r):\n",
    "    return 4*math.pi*r**3/3\n",
    "\n",
    "# Concentration\n",
    "n = 1e-10 # nm^-3"
   ]
  },
  {
   "cell_type": "code",
   "execution_count": 2,
   "id": "1017a7c2-76d8-4261-8b97-280e8832bf1a",
   "metadata": {
    "jupyter": {
     "source_hidden": true
    },
    "tags": []
   },
   "outputs": [
    {
     "data": {
      "application/vnd.jupyter.widget-view+json": {
       "model_id": "9148f7a0e0ed48eb92c230eac25fa5eb",
       "version_major": 2,
       "version_minor": 0
      },
      "text/plain": [
       "interactive(children=(FloatSlider(value=40.0, description='Core radius (nm)', min=1.0, readout_format='.0f', s…"
      ]
     },
     "metadata": {},
     "output_type": "display_data"
    },
    {
     "data": {
      "text/plain": [
       "<function __main__.interactive_shell(R, rel, DR, r0, r1, rs)>"
      ]
     },
     "execution_count": 2,
     "metadata": {},
     "output_type": "execute_result"
    }
   ],
   "source": [
    "def interactive_shell( R, rel, DR, r0, r1, rs ):\n",
    "    # dynamicaly initialize q-array (3 orders of magnitude only)\n",
    "    min_order = math.log(0.5/(R+DR), 10)\n",
    "    q = np.logspace(min_order,min_order+3, num=500, endpoint=True, base=10.0)\n",
    "    \n",
    "    # Initialize plot\n",
    "    fig, axs = plt.subplots(1,2,figsize=(fs*2,fs*0.7))\n",
    "    \n",
    "    axs[0].set_xlabel('$q$ (nm$^{-1}$)', fontsize=16)\n",
    "    axs[0].set_ylabel('$I(q)$ (nm$^{-1}$)', fontsize=16)\n",
    "    axs[0].set_xscale('log')\n",
    "    axs[0].set_yscale('log')\n",
    "    axs[0].minorticks_on()\n",
    "    axs[0].tick_params(axis='both', which='major', labelsize=14)\n",
    "    \n",
    "    rho_ave = ( vol(R)*r0 + (vol(R+DR)-vol(R))*r1 ) / (vol(R+DR))\n",
    "\n",
    "    # plot I(q) curves\n",
    "    q_max = 10. # nm^-1\n",
    "    I_eq_sphere = sph.sphere_int_normal(q,n,R+DR,(R+DR)*rel,(rho_ave-rs))\n",
    "    axs[0].plot(q, np.where(q<=q_max,I_eq_sphere,np.nan), color=\"gray\", label='Equivalent homogeneous sphere')\n",
    "    I_shell = sph.sphere_core_shell_int_normal(q,n,R,R*rel,DR,rs,r0,r1)\n",
    "    axs[0].plot(q, np.where(q<=q_max,I_shell,np.nan), color=\"red\", label='Core-shell system')\n",
    "\n",
    "    # plot vertical lines\n",
    "    axs[0].axvline(x=2*math.pi/DR,color=\"blue\",ls=\"--\", label='$2\\\\pi/\\\\Delta R$')\n",
    "    axs[0].axvline(x=4.5/(R+DR),color=\"red\",ls=\":\", label='$4.5/(R+\\\\Delta R)$')\n",
    "\n",
    "    # include WAXS regime\n",
    "    #bottom = np.min([np.min(I_eq_sphere),np.min(I_shell)])\n",
    "    #top = np.max([np.max(I_eq_sphere),np.max(I_shell)])\n",
    "    #right = np.max([10,np.max(q)])\n",
    "    #axs[0].add_patch( plt.Rectangle((q_max, bottom), right-q_max, top-bottom, facecolor=\"black\", alpha=0.2, zorder=2) )\n",
    "    #if np.max(q)>=10: axs[0].text(q_max+1, (top-bottom)*1e-4, 'WAXS regime', rotation=-90)\n",
    "\n",
    "    axs[0].legend()\n",
    "\n",
    "    c0 = plt.Circle((0, 0), radius=R,    color=str(normalize(r0)), label='0')\n",
    "    c1 = plt.Circle((0, 0), radius=R+DR, color=str(normalize(r1)), label='1')\n",
    "    \n",
    "    axs[1].add_patch(c1)\n",
    "    axs[1].add_patch(c0)\n",
    "    axs[1].set_facecolor(str(normalize(rs)))\n",
    "\n",
    "    cmap = matplotlib.cm.gray\n",
    "    norm = matplotlib.colors.Normalize(vmin=rho_scale[0], vmax=rho_scale[-1])\n",
    "\n",
    "    fig.colorbar(matplotlib.cm.ScalarMappable(norm=norm, cmap=cmap), ax=axs[1], orientation='vertical', label='$\\\\rho$ (nm$^{-2}$)')\n",
    "    \n",
    "    plt.gca().relim()  # Recalculate limits\n",
    "    plt.gca().autoscale_view()  # Auto-scale the view\n",
    "    plt.show()\n",
    "\n",
    "style = {'description_width': 'initial'}\n",
    "\n",
    "interact(interactive_shell,  R = FloatSlider(value=40, min=1, max=100, step=1, readout_format='.0f', description='Core radius (nm)',style=style),\n",
    "                             rel = FloatSlider(value=0.1, min=0.02, max=0.24, step=0.02, readout_format='.2p', description='PDI',style=style),\n",
    "                             DR = FloatSlider(value=5., min=0.5, max=50, step=0.5, readout_format='.1f', description='Shell width (nm)',style=style),\n",
    "                             r0 = FloatSlider(value=16.*1e-4, min=rho_scale[0], max=rho_scale[-1], step=rho_scale[1]-rho_scale[0], readout_format='.2e', description='Core SLD (nm$^{-2}$)',style=style),\n",
    "                             r1 = FloatSlider(value=11.*1e-4, min=rho_scale[0], max=rho_scale[-1], step=rho_scale[1]-rho_scale[0], readout_format='.2e', description='Shell SLD (nm$^{-2}$)',style=style),  \n",
    "                             rs = FloatSlider(value=9.4*1e-4, min=rho_scale[0], max=rho_scale[-1], step=rho_scale[1]-rho_scale[0], readout_format='.2e', description='Medium SLD (nm$^{-2}$)',style=style))"
   ]
  },
  {
   "cell_type": "markdown",
   "id": "84615efd-c347-44c7-997e-faf597e70a29",
   "metadata": {},
   "source": [
    "## Large Unilamellar Vesicle - SAXS example"
   ]
  },
  {
   "cell_type": "code",
   "execution_count": 3,
   "id": "50d5107c-4246-45e4-8c0a-142adfe8eb7e",
   "metadata": {
    "jupyter": {
     "source_hidden": true
    },
    "tags": []
   },
   "outputs": [
    {
     "data": {
      "application/vnd.jupyter.widget-view+json": {
       "model_id": "4bf8a5c5ba1e493ebbf7581e77765b68",
       "version_major": 2,
       "version_minor": 0
      },
      "text/plain": [
       "interactive(children=(FloatSlider(value=46.0, description='Core radius (nm)', max=200.0, min=12.0, readout_for…"
      ]
     },
     "metadata": {},
     "output_type": "display_data"
    },
    {
     "data": {
      "text/plain": [
       "<function __main__.interactive_shell(R, rel, d_h, d_t, d_m, r_h, r_t, r_m, r_s)>"
      ]
     },
     "execution_count": 3,
     "metadata": {},
     "output_type": "execute_result"
    }
   ],
   "source": [
    "#initial values\n",
    "R_0=46 # nm\n",
    "rel_0=0.1\n",
    "d_h_0=0.5\n",
    "d_t_0=1.0\n",
    "d_m_0=0.1\n",
    "r_h_0=12.*1e-4 # nm-2\n",
    "r_t_0=8.*1e-4 # nm-2\n",
    "r_m_0=7.*1e-4 # nm-2\n",
    "r_s_0=9.4*1e-4 # nm-2\n",
    "\n",
    "# length lipid head\n",
    "d_h_min = 0.3\n",
    "d_h_max = 0.9\n",
    "# length lipid tail\n",
    "d_t_min = 0.8\n",
    "d_t_max = 2.0\n",
    "# length methyl\n",
    "d_m_min = 0.\n",
    "d_m_max = 0.2\n",
    "# SLD lipid head\n",
    "rho_h_saxs = [11.0*1e-4, 14.0*1e-4] # nm-2\n",
    "# SLD lipid tail\n",
    "rho_t_saxs = [7.2*1e-4, 8.6*1e-4] # nm-2\n",
    "# SLD methyl\n",
    "rho_m_saxs = [6.6*1e-4, 7.2*1e-4] # nm-2\n",
    "# SLD solvent\n",
    "rho_s_saxs = [9.2*1e-4, 10.0*1e-4] # nm-2\n",
    "\n",
    "def interactive_shell( R, rel, d_h, d_t, d_m, r_h, r_t, r_m, r_s ):\n",
    "    # dynamicaly initialize q-array (3 orders of magnitude only)\n",
    "    min_order = math.log(0.5/(R+2*d_h+2*d_t), 10)\n",
    "    q = np.logspace(min_order,min_order+3, num=500, endpoint=True, base=10.0)\n",
    "\n",
    "    # Initialize plot\n",
    "    fig, axs = plt.subplots(1,2,figsize=(fs*2,fs*0.7))\n",
    "    \n",
    "    axs[0].set_xlabel('$q$ (nm$^{-1}$)', fontsize=16)\n",
    "    axs[0].set_ylabel('$I(q)$ (nm$^{-1}$)', fontsize=16)\n",
    "    axs[0].set_xscale('log')\n",
    "    axs[0].set_yscale('log')\n",
    "    axs[0].minorticks_on()\n",
    "    axs[0].tick_params(axis='both', which='major', labelsize=14)\n",
    "\n",
    "    V_core  = vol(R)\n",
    "    V_h_in  = vol(R+d_h) - vol(R)\n",
    "    V_t_in  = vol(R+d_h+d_t) - vol(R+d_h)\n",
    "    V_m     = vol(R+d_h+d_t+d_m) - vol(R+d_h+d_t)\n",
    "    V_t_out = vol(R+d_h+2*d_t+d_m) - vol(R+d_h+d_t+d_m)\n",
    "    V_h_out = vol(R+2*d_h+2*d_t+d_m) - vol(R+d_h+2*d_t+d_m)\n",
    "    V_h = V_h_in + V_h_out\n",
    "    V_t = V_t_in + V_t_out\n",
    "\n",
    "    rho_ave = ( V_core*r_s + V_h*r_h + V_t*r_t + V_m*r_m ) / (V_core+V_h+V_t+V_m)\n",
    "    \n",
    "    # plot I(q) curves\n",
    "    q_max = 10. # nm^-1\n",
    "    I_shell_0 = sph.sphere_core_5xshell_int_normal (q,n,R_0,R_0*rel_0, d_h_0,d_t_0,d_m_0, r_h_0,r_t_0,r_m_0,r_s_0)\n",
    "    axs[0].plot(q, np.where(q<=q_max,I_shell_0,np.nan), color=\"gray\", label='Reference')\n",
    "    I_shell = sph.sphere_core_5xshell_int_normal (q,n,R,R*rel,d_h,d_t,d_m,r_h,r_t,r_m,r_s)\n",
    "    axs[0].plot(q, np.where(q<=q_max,I_shell,np.nan), color=\"red\", label='Core-(5x)shells system: Liposome')\n",
    "\n",
    "    axs[0].axvline(2*math.pi/(d_h+d_t+d_m+d_t+d_h),color=\"blue\",ls=\"--\", label='$2\\\\pi/\\\\Delta R$')\n",
    "\n",
    "    axs[0].legend()\n",
    "\n",
    "    c0 = plt.Circle((0, 0), radius=R,                     color=str(normalize(r_s, rmax=rho_h_saxs[1], rmin=rho_m_saxs[0])), label='0')\n",
    "    c1 = plt.Circle((0, 0), radius=R+d_h,                 color=str(normalize(r_h, rmax=rho_h_saxs[1], rmin=rho_m_saxs[0])), label='1')\n",
    "    c2 = plt.Circle((0, 0), radius=R+d_h+d_t,             color=str(normalize(r_t, rmax=rho_h_saxs[1], rmin=rho_m_saxs[0])), label='2')\n",
    "    c3 = plt.Circle((0, 0), radius=R+d_h+d_t+d_m,         color=str(normalize(r_m, rmax=rho_h_saxs[1], rmin=rho_m_saxs[0])), label='3')\n",
    "    c4 = plt.Circle((0, 0), radius=R+d_h+d_t+d_m+d_t,     color=str(normalize(r_t, rmax=rho_h_saxs[1], rmin=rho_m_saxs[0])), label='4')\n",
    "    c5 = plt.Circle((0, 0), radius=R+d_h+d_t+d_m+d_t+d_h, color=str(normalize(r_h, rmax=rho_h_saxs[1], rmin=rho_m_saxs[0])), label='5')\n",
    "\n",
    "    axs[1].add_patch(c5)\n",
    "    axs[1].add_patch(c4)\n",
    "    axs[1].add_patch(c3)\n",
    "    axs[1].add_patch(c2)\n",
    "    axs[1].add_patch(c1)\n",
    "    axs[1].add_patch(c0)\n",
    "    axs[1].set_facecolor(str(normalize(r_s, rmax=rho_h_saxs[1], rmin=rho_m_saxs[0])))\n",
    "\n",
    "    cmap = matplotlib.cm.gray\n",
    "    norm = matplotlib.colors.Normalize(vmin=rho_m_saxs[0], vmax=rho_h_saxs[1])\n",
    "\n",
    "    fig.colorbar(matplotlib.cm.ScalarMappable(norm=norm, cmap=cmap), ax=axs[1], orientation='vertical', label='$\\\\rho$ (nm$^{-2}$)')\n",
    "    \n",
    "    plt.gca().relim()  # Recalculate limits\n",
    "    plt.gca().autoscale_view()  # Auto-scale the view\n",
    "    plt.show()\n",
    "\n",
    "style = {'description_width': 'initial'}\n",
    "\n",
    "interact(interactive_shell,  R = FloatSlider(value=R_0, min=12, max=200, step=2, readout_format='.0f', description='Core radius (nm)',style=style),\n",
    "                             rel = FloatSlider(value=rel_0, min=0.02, max=0.20, step=0.02, readout_format='.2p', description='PDI',style=style),\n",
    "                             d_h = FloatSlider(value=d_h_0, min=d_h_min, max=d_h_max, step=0.1, readout_format='.1f', description='Lipid head width (nm)',style=style),\n",
    "                             d_t = FloatSlider(value=d_t_0, min=d_t_min, max=d_t_max, step=0.1, readout_format='.1f', description='Lipid tail width (nm)',style=style),\n",
    "                             d_m = FloatSlider(value=d_m_0, min=d_m_min, max=d_m_max, step=0.05, readout_format='.2f', description='Lipi methyl width (nm)',style=style),\n",
    "                             r_h = FloatSlider(value=r_h_0, min=rho_h_saxs[0], max=rho_h_saxs[1], step=0.2*1e-4, readout_format='.2e', description='Lipid head SLD (nm$^{-2}$)',style=style),\n",
    "                             r_t = FloatSlider(value=r_t_0, min=rho_t_saxs[0], max=rho_t_saxs[1], step=0.2*1e-4, readout_format='.2e', description='Lipid tail SLD (nm$^{-2}$)',style=style),\n",
    "                             r_m = FloatSlider(value=r_m_0, min=rho_m_saxs[0], max=rho_m_saxs[1], step=0.2*1e-4, readout_format='.2e', description='Methyl SLD (nm$^{-2}$)',style=style),  \n",
    "                             r_s = FloatSlider(value=r_s_0, min=rho_s_saxs[0], max=rho_s_saxs[1], step=0.2*1e-4, readout_format='.2e', description='Medium SLD (nm$^{-2}$)',style=style))\n"
   ]
  },
  {
   "cell_type": "markdown",
   "id": "4f34994f-a8f1-4c67-a76f-a23439555e9c",
   "metadata": {},
   "source": [
    "## Large Unilamellar Vesicle - SANS example"
   ]
  },
  {
   "cell_type": "code",
   "execution_count": 4,
   "id": "e823ea9f-15ee-44c1-b01c-127d24f81b04",
   "metadata": {
    "jupyter": {
     "source_hidden": true
    }
   },
   "outputs": [
    {
     "data": {
      "application/vnd.jupyter.widget-view+json": {
       "model_id": "7ee270aa3c98481286a41d82027f9baa",
       "version_major": 2,
       "version_minor": 0
      },
      "text/plain": [
       "interactive(children=(FloatSlider(value=46.0, description='Core radius (nm)', max=200.0, min=12.0, readout_for…"
      ]
     },
     "metadata": {},
     "output_type": "display_data"
    },
    {
     "data": {
      "text/plain": [
       "<function __main__.interactive_shell(R, rel, d_h, d_t, d_m, r_h, r_t, r_m, r_s)>"
      ]
     },
     "execution_count": 4,
     "metadata": {},
     "output_type": "execute_result"
    }
   ],
   "source": [
    "#initial values\n",
    "R_0=46 # nm\n",
    "rel_0=0.1\n",
    "d_h_0=0.5\n",
    "d_t_0=1.0\n",
    "d_m_0=0.1\n",
    "r_h_0=1.8*1e-4 # nm-2\n",
    "r_t_0=-0.2*1e-4 # nm-2\n",
    "r_m_0=-0.2*1e-4 # nm-2\n",
    "r_s_0=-5.5*1e-4 # nm-2\n",
    "\n",
    "# length lipid head\n",
    "d_h_min = 0.3\n",
    "d_h_max = 0.9\n",
    "# length lipid tail\n",
    "d_t_min = 0.8\n",
    "d_t_max = 2.0\n",
    "# length methyl\n",
    "d_m_min = 0.\n",
    "d_m_max = 0.2\n",
    "# SLD lipid head\n",
    "rho_h_sans = [-0.6*1e-4, 2.2*1e-4] # nm-2\n",
    "# SLD lipid tail\n",
    "rho_t_sans = [-1.*1e-4, +3.*1e-4] # nm-2\n",
    "# SLD methyl\n",
    "rho_m_sans = [-1.*1e-4, +3.*1e-4] # nm-2\n",
    "# SLD solvent\n",
    "rho_s_sans = [-5.5*1e-4, +6.36*1e-4] # nm-2\n",
    "\n",
    "\n",
    "\n",
    "\n",
    "def interactive_shell( R, rel, d_h, d_t, d_m, r_h, r_t, r_m, r_s ):\n",
    "    # dynamicaly initialize q-array (3 orders of magnitude only)\n",
    "    min_order = math.log(0.5/(R+2*d_h+2*d_t), 10)\n",
    "    q = np.logspace(min_order,min_order+3, num=500, endpoint=True, base=10.0)\n",
    "    \n",
    "    # Initialize plot\n",
    "    fig, axs = plt.subplots(1,2,figsize=(fs*2,fs*0.7))\n",
    "    \n",
    "    axs[0].set_xlabel('$q$ (nm$^{-1}$)', fontsize=16)\n",
    "    axs[0].set_ylabel('$I(q)$ (nm$^{-1}$)', fontsize=16)\n",
    "    axs[0].set_xscale('log')\n",
    "    axs[0].set_yscale('log')\n",
    "    axs[0].minorticks_on()\n",
    "    axs[0].tick_params(axis='both', which='major', labelsize=14)\n",
    "\n",
    "    V_core  = vol(R)\n",
    "    V_h_in  = vol(R+d_h) - vol(R)\n",
    "    V_t_in  = vol(R+d_h+d_t) - vol(R+d_h)\n",
    "    V_m     = vol(R+d_h+d_t+d_m) - vol(R+d_h+d_t)\n",
    "    V_t_out = vol(R+d_h+2*d_t+d_m) - vol(R+d_h+d_t+d_m)\n",
    "    V_h_out = vol(R+2*d_h+2*d_t+d_m) - vol(R+d_h+2*d_t+d_m)\n",
    "    V_h = V_h_in + V_h_out\n",
    "    V_t = V_t_in + V_t_out\n",
    "\n",
    "    rho_ave = ( V_core*r_s + V_h*r_h + V_t*r_t + V_m*r_m ) / (V_core+V_h+V_t+V_m)\n",
    "\n",
    "    # plot I(q) curves\n",
    "    q_max = 10. # nm^-1\n",
    "    I_shell_0 = sph.sphere_core_5xshell_int_normal (q,n,R_0,R_0*rel_0, d_h_0,d_t_0,d_m_0, r_h_0,r_t_0,r_m_0,r_s_0)\n",
    "    axs[0].plot(q, np.where(q<=q_max,I_shell_0,np.nan), color=\"gray\", label='Reference')\n",
    "    I_shell = sph.sphere_core_5xshell_int_normal (q,n,R,R*rel,d_h,d_t,d_m,r_h,r_t,r_m,r_s)\n",
    "    axs[0].plot(q, np.where(q<=q_max,I_shell,np.nan), color=\"red\", label='Core-(5x)shells system: Liposome')\n",
    "\n",
    "    axs[0].axvline(2*math.pi/(d_h+d_t+d_m+d_t+d_h),color=\"blue\",ls=\"--\", label='$2\\\\pi/\\\\Delta R$')\n",
    "\n",
    "    axs[0].legend()\n",
    "\n",
    "    c0 = plt.Circle((0, 0), radius=R,                     color=str(normalize(r_s, rmax=rho_s_sans[1], rmin=rho_s_sans[0])), label='0')\n",
    "    c1 = plt.Circle((0, 0), radius=R+d_h,                 color=str(normalize(r_h, rmax=rho_s_sans[1], rmin=rho_s_sans[0])), label='1')\n",
    "    c2 = plt.Circle((0, 0), radius=R+d_h+d_t,             color=str(normalize(r_t, rmax=rho_s_sans[1], rmin=rho_s_sans[0])), label='2')\n",
    "    c3 = plt.Circle((0, 0), radius=R+d_h+d_t+d_m,         color=str(normalize(r_m, rmax=rho_s_sans[1], rmin=rho_s_sans[0])), label='3')\n",
    "    c4 = plt.Circle((0, 0), radius=R+d_h+d_t+d_m+d_t,     color=str(normalize(r_t, rmax=rho_s_sans[1], rmin=rho_s_sans[0])), label='4')\n",
    "    c5 = plt.Circle((0, 0), radius=R+d_h+d_t+d_m+d_t+d_h, color=str(normalize(r_h, rmax=rho_s_sans[1], rmin=rho_s_sans[0])), label='5')\n",
    "\n",
    "    axs[1].add_patch(c5)\n",
    "    axs[1].add_patch(c4)\n",
    "    axs[1].add_patch(c3)\n",
    "    axs[1].add_patch(c2)\n",
    "    axs[1].add_patch(c1)\n",
    "    axs[1].add_patch(c0)\n",
    "    axs[1].set_facecolor(str(normalize(r_s, rmax=rho_s_sans[1], rmin=rho_s_sans[0])))\n",
    "\n",
    "    cmap = matplotlib.cm.gray\n",
    "    norm = matplotlib.colors.Normalize(vmin=rho_s_sans[0], vmax=rho_s_sans[1])\n",
    "\n",
    "    fig.colorbar(matplotlib.cm.ScalarMappable(norm=norm, cmap=cmap), ax=axs[1], orientation='vertical', label='$\\\\rho$ (nm$^{-2}$)')\n",
    "    \n",
    "    plt.gca().relim()  # Recalculate limits\n",
    "    plt.gca().autoscale_view()  # Auto-scale the view\n",
    "    plt.show()\n",
    "\n",
    "\n",
    "style = {'description_width': 'initial'}\n",
    "\n",
    "interact(interactive_shell,  R = FloatSlider(value=R_0, min=12, max=200, step=2, readout_format='.0f', description='Core radius (nm)',style=style),\n",
    "                             rel = FloatSlider(value=rel_0, min=0.02, max=0.20, step=0.02, readout_format='.2p', description='PDI',style=style),\n",
    "                             d_h = FloatSlider(value=d_h_0, min=d_h_min, max=d_h_max, step=0.1, readout_format='.1f', description='Lipid head width (nm)',style=style),\n",
    "                             d_t = FloatSlider(value=d_t_0, min=d_t_min, max=d_t_max, step=0.1, readout_format='.1f', description='Lipid tail width (nm)',style=style),\n",
    "                             d_m = FloatSlider(value=d_m_0, min=d_m_min, max=d_m_max, step=0.05, readout_format='.2f', description='Lipi methyl width (nm)',style=style),\n",
    "                             r_h = FloatSlider(value=r_h_0, min=rho_h_sans[0], max=rho_h_sans[1], step=0.2*1e-4, readout_format='.2e', description='Lipid head SLD (nm$^{-2}$)',style=style),\n",
    "                             r_t = FloatSlider(value=r_t_0, min=rho_t_sans[0], max=rho_t_sans[1], step=0.2*1e-4, readout_format='.2e', description='Lipid tail SLD (nm$^{-2}$)',style=style),\n",
    "                             r_m = FloatSlider(value=r_m_0, min=rho_m_sans[0], max=rho_m_sans[1], step=0.2*1e-4, readout_format='.2e', description='Methyl SLD (nm$^{-2}$)',style=style),  \n",
    "                             r_s = FloatSlider(value=r_s_0, min=rho_s_sans[0], max=rho_s_sans[1], step=0.2*1e-4, readout_format='.2e', description='Medium SLD (nm$^{-2}$)',style=style))\n"
   ]
  },
  {
   "cell_type": "code",
   "execution_count": null,
   "id": "87cd3622-8164-4fe1-a251-98a6e4e80adb",
   "metadata": {
    "jupyter": {
     "source_hidden": true
    }
   },
   "outputs": [],
   "source": []
  }
 ],
 "metadata": {
  "kernelspec": {
   "display_name": "Python 3 (ipykernel)",
   "language": "python",
   "name": "python3"
  },
  "language_info": {
   "codemirror_mode": {
    "name": "ipython",
    "version": 3
   },
   "file_extension": ".py",
   "mimetype": "text/x-python",
   "name": "python",
   "nbconvert_exporter": "python",
   "pygments_lexer": "ipython3",
   "version": "3.12.4"
  },
  "toc-showcode": true
 },
 "nbformat": 4,
 "nbformat_minor": 5
}
